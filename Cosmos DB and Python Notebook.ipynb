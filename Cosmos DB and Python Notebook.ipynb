{
 "nbformat": 4,
 "nbformat_minor": 2,
 "metadata": {
  "language_info": {
   "name": "python",
   "codemirror_mode": {
    "name": "ipython",
    "version": 3
   },
   "version": "3.7.6-final"
  },
  "orig_nbformat": 2,
  "file_extension": ".py",
  "mimetype": "text/x-python",
  "name": "python",
  "npconvert_exporter": "python",
  "pygments_lexer": "ipython3",
  "version": 3,
  "kernelspec": {
   "name": "python37664bitpyazconda57160599f46145dabc0d794f26265b83",
   "display_name": "Python 3.7.6 64-bit ('pyaz': conda)"
  }
 },
 "cells": [
  {
   "cell_type": "code",
   "execution_count": 2,
   "metadata": {},
   "outputs": [
    {
     "name": "stdout",
     "output_type": "stream",
     "text": "Imported packages successfully.\n"
    }
   ],
   "source": [
    "import pandas as pd \n",
    "import json\n",
    "import azure.cosmos.cosmos_client as cosmos_client\n",
    "import azure.cosmos.errors as errors\n",
    "import azure.cosmos.documents as documents\n",
    "import azure.cosmos.http_constants as http_constants\n",
    "\n",
    "print('Imported packages successfully.')"
   ]
  },
  {
   "cell_type": "code",
   "execution_count": 3,
   "metadata": {},
   "outputs": [],
   "source": [
    "# Initialize the Cosmos client\n",
    "\n",
    "config = {\n",
    "    \"endpoint\": \"YOUR ENDPOINT HERE\",\n",
    "    \"primarykey\": \"YOUR PRIMARY KEY\"\n",
    "}\n",
    "\n",
    "# Create the cosmos client\n",
    "client = cosmos_client.CosmosClient(url_connection=config[\"endpoint\"], auth={\"masterKey\":config[\"primarykey\"]}\n",
    ")"
   ]
  },
  {
   "cell_type": "code",
   "execution_count": 160,
   "metadata": {},
   "outputs": [],
   "source": [
    "# Create a database\n",
    "# https://docs.microsoft.com/en-us/python/api/azure-cosmos/azure.cosmos.cosmos_client.cosmosclient?view=azure-python#createdatabase-database--options-none-\n",
    "\n",
    "database_name = 'HDIdatabase'\n",
    "try:\n",
    "    database = client.CreateDatabase({'id': database_name})\n",
    "except errors.HTTPFailure:\n",
    "    database = client.ReadDatabase(\"dbs/\" + database_name)"
   ]
  },
  {
   "cell_type": "code",
   "execution_count": 163,
   "metadata": {},
   "outputs": [],
   "source": [
    "# Create a collection of items in a Container\n",
    "# Items are the individual rows/records of your dataset\n",
    "# https://docs.microsoft.com/en-us/python/api/azure-cosmos/azure.cosmos.cosmos_client.cosmosclient?view=azure-python#createcontainer-database-link--collection--options-none-\n",
    "\n",
    "database_link = 'dbs/' + 'HDIdatabase'\n",
    "container_definition = {'id': 'HDIcontainer',\n",
    "                        'partitionKey':\n",
    "                                    {\n",
    "                                        'paths': ['/country'],\n",
    "                                        'kind': documents.PartitionKind.Hash\n",
    "                                    }\n",
    "                        }\n",
    "try:\n",
    "    container = client.CreateContainer(database_link=database_link, \n",
    "                                        collection=container_definition, \n",
    "                                        options={'offerThroughput': 400})\n",
    "except errors.HTTPFailure as e:\n",
    "    if e.status_code == http_constants.StatusCodes.CONFLICT:\n",
    "        container = client.ReadContainer(\"dbs/\" + database['id'] + \"/colls/\" + container_definition['id'])\n",
    "    else:\n",
    "        raise e"
   ]
  },
  {
   "cell_type": "code",
   "execution_count": null,
   "metadata": {},
   "outputs": [],
   "source": [
    "# Download and read csv file\n",
    "df = pd.read_csv('https://globaldatalab.org/assets/2019/09/SHDI%20Complete%203.0.csv',encoding='ISO-8859–1',dtype='str')\n",
    "# Reset index - creates a column called 'index'\n",
    "df = df.reset_index()\n",
    "# Rename that new column 'id'\n",
    "# Cosmos DB needs one column named 'id'. \n",
    "df = df.rename(columns={'index':'id'})\n",
    "# Convert the id column to a string - this is a document database.\n",
    "df['id'] = df['id'].astype(str)\n",
    "df.info()"
   ]
  },
  {
   "cell_type": "code",
   "execution_count": null,
   "metadata": {},
   "outputs": [],
   "source": [
    "# Write rows of a pandas DataFrame as items to the Database Container\n",
    "\n",
    "# https://docs.microsoft.com/en-us/python/api/azure-cosmos/azure.cosmos.cosmos_client.cosmosclient?view=azure-python#upsertitem-database-or-container-link--document--options-none-\n",
    "\n",
    "# Create Connection Link string\n",
    "database_link = 'dbs/' + 'HDIdatabase'\n",
    "collection_link = database_link + '/colls/' + 'HDIcontainer'\n",
    "\n",
    "# Write rows of a pandas DataFrame as items to the Database Container\n",
    "for i in range(0,df.shape[0]):\n",
    "    data_dict = dict(df.iloc[i,:])\n",
    "    data_dict = json.dumps(data_dict)\n",
    "    insert_data = client.UpsertItem(collection_link,json.loads(data_dict)\n",
    "    )\n",
    "print('Records inserted successfully.')"
   ]
  },
  {
   "cell_type": "code",
   "execution_count": 0,
   "metadata": {},
   "outputs": [],
   "source": [
    "# Query Afghanistan records\n",
    "\n",
    "# Create Connection Link string\n",
    "database_link = 'dbs/' + 'HDIdatabase'\n",
    "collection_link = database_link + '/colls/' + 'HDIcontainer'\n",
    "\n",
    "for item in client.QueryItems(collection_link,\n",
    "                              'SELECT VALUE count(c.id) FROM c where c.country=\"Afghanistan\"',\n",
    "                              {'enableCrossPartitionQuery': True}\n",
    "                              ):\n",
    "    print(json.dumps(item, indent=True))"
   ]
  },
  {
   "cell_type": "code",
   "execution_count": 0,
   "metadata": {},
   "outputs": [],
   "source": [
    "# Initialize list\n",
    "dflist = []\n",
    "# Connection link\n",
    "collection_link = database_link + '/colls/' + 'HDIcontainer'\n",
    "# Write out query\n",
    "query = 'SELECT * FROM c where c.country=\"Afghanistan\" and c.level=\"National\"'\n",
    "\n",
    "# For-loop to retrieve individual json records from Cosmos DB \n",
    "# that satisfy our query\n",
    "for item in client.QueryItems(collection_link,\n",
    "                              query,\n",
    "                              {'enableCrossPartitionQuery': True}\n",
    "                              ):\n",
    "    # Append each item as a dictionary to list\n",
    "    dflist.append(dict(item))\n",
    "    \n",
    "# Convert list to pandas DataFrame\n",
    "df = pd.DataFrame(dflist)\n",
    "df.head()"
   ]
  },
  {
   "cell_type": "code",
   "execution_count": 0,
   "metadata": {},
   "outputs": [],
   "source": [
    "df.columns"
   ]
  },
  {
   "cell_type": "code",
   "execution_count": 0,
   "metadata": {},
   "outputs": [],
   "source": [
    "import seaborn as sns \n",
    "import matplotlib.pyplot as plt\n",
    "\n",
    "# Convert to type float\n",
    "index_df = df.loc[:,('healthindex','incindex','edindex','year')].astype('float')\n",
    "\n",
    "# Create the figure\n",
    "plt.figure(figsize=(14,8))\n",
    "# Set a Seaborn chart style\n",
    "sns.set(style='darkgrid',font_scale=1.5)\n",
    "# Plot three Seaborn line charts\n",
    "line1 = sns.lineplot(x='year',y='healthindex',data=index_df, label='Health Index')\n",
    "line2 = sns.lineplot(x='year',y='incindex',data=index_df,label='Income Index')\n",
    "line3 = sns.lineplot(x='year',y='edindex',data=index_df,label='Education Index')\n",
    "plt.ylabel('Index Score')\n",
    "plt.legend(loc=\"upper left\")\n",
    "plt.title('Afghanistan Human Development Indexes')\n",
    "plt.savefig('Afghanistan Indexes')\n"
   ]
  },
  {
   "cell_type": "code",
   "execution_count": null,
   "metadata": {},
   "outputs": [],
   "source": []
  }
 ]
}